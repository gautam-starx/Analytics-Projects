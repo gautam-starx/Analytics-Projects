{
 "cells": [
  {
   "cell_type": "code",
   "execution_count": null,
   "metadata": {},
   "outputs": [],
   "source": [
    "# IMPORTING LIBRARIES, PACKAGES, SETTING WORKING DIRECTORIES AND DEFINING VARIABLES\n",
    "\n",
    "import numpy as np\n",
    "import pandas as pd\n",
    "from matplotlib import pyplot as plt\n",
    "import cv2\n",
    "import pafy\n",
    "import os\n",
    "import np_utils\n",
    "from sklearn.cross_validation import train_test_split\n",
    "import keras\n",
    "import tensorflow as tf\n",
    "from keras.preprocessing.image import ImageDataGenerator\n",
    "from keras.models import Sequential\n",
    "from keras.layers import Conv2D, MaxPooling2D\n",
    "from keras.layers import Activation, Dropout, Flatten, Dense\n",
    "from keras.optimizers import SGD, Adam, RMSprop\n",
    "\n",
    "Main_Folder='/Users/gautamroy/Documents/My Python Package/Python OpenCV'\n",
    "Training_Folder='/Users/gautamroy/Documents/My Python Package/Python OpenCV/Training_set'\n",
    "Validation_Folder='/Users/gautamroy/Documents/My Python Package/Python OpenCV/Validation_set'\n",
    "\n",
    "OPTIMIZER = keras.optimizers.rmsprop(lr=0.001, decay=1e-6)\n",
    "NB_EPOCH = 20\n",
    "BATCH_SIZE = 512\n",
    "VERBOSE = 1\n",
    "NB_CLASSES = 5\n",
    "N_HIDDEN = 128\n",
    "SPLIT_RATIO = 0.2\n",
    "IMG_CHANNELS = 3\n",
    "IMG_ROWS = 540\n",
    "IMG_COLS = 960\n",
    "DROPOUT = 0.3\n"
   ]
  },
  {
   "cell_type": "code",
   "execution_count": null,
   "metadata": {
    "collapsed": true,
    "scrolled": true
   },
   "outputs": [],
   "source": [
    "# CREATING ARRAY FOR THE TRANING AND VALIDATION SET FROM IMAGE FRAMES\n",
    "\n",
    "os.chdir(Main_Folder)\n",
    "\n",
    "Train_Frame_set=pd.read_csv('Train_Frame_set.csv')\n",
    "Validation_Frame_set=pd.read_csv('Validation_Frame_set.csv')\n",
    "\n",
    "os.chdir(Training_Folder)\n",
    "\n",
    "X_train=np.array([cv2.imread(i, 3) for i in Train_Frame_set.loc[:,'FrameID']])\n",
    "y_train=np.array([i for i in Train_Frame_set.loc[:,'Category']])\n",
    "\n",
    "os.chdir(Validation_Folder)\n",
    "\n",
    "X_valid=np.array([cv2.imread(i, 3) for i in Validation_Frame_set.loc[:,'FrameID']])\n",
    "y_valid=np.array([i for i in Validation_Frame_set.loc[:,'Category']])\n"
   ]
  },
  {
   "cell_type": "code",
   "execution_count": null,
   "metadata": {
    "collapsed": true,
    "scrolled": false
   },
   "outputs": [],
   "source": [
    "# Resize Arrays: Set width, height same for all images\n",
    "\n",
    "X_train=np.array([cv2.resize(img,(IMG_COLS, IMG_ROWS), interpolation = cv2.INTER_LINEAR) for img in X_train])\n",
    "X_valid=np.array([cv2.resize(img,(IMG_COLS, IMG_ROWS), interpolation = cv2.INTER_LINEAR) for img in X_valid])\n",
    "\n",
    "# Normalising Pixel values\n",
    "\n",
    "X_train=X_train/255\n",
    "X_valid=X_valid/255\n",
    "\n",
    "# Blurring the images to reduce noise\n",
    "\n",
    "X_train=np.array([cv2.GaussianBlur(img,(5,5),0) for img in X_train])\n",
    "X_valid=np.array([cv2.GaussianBlur(img,(5,5),0) for img in X_valid])"
   ]
  },
  {
   "cell_type": "code",
   "execution_count": null,
   "metadata": {
    "collapsed": true
   },
   "outputs": [],
   "source": [
    "# DESIGNING THE KERAS MODEL\n",
    "\n",
    "def MODEL_DEFINATION():\n",
    "    \n",
    "    model = Sequential()\n",
    "    \n",
    "    model.add(Conv2D(32, (3, 3), padding='same', input_shape=(IMG_ROWS, IMG_COLS, IMG_CHANNELS),data_format='channels_last'))\n",
    "    model.add(Activation('relu'))\n",
    "    model.add(MaxPooling2D(pool_size=(2, 2),data_format='channels_last'))\n",
    "    model.add(Dropout(DROPOUT))\n",
    "\n",
    "    model.add(Conv2D(64, (3, 3), padding='same',data_format='channels_last'))\n",
    "    model.add(Activation('relu'))\n",
    "    model.add(MaxPooling2D(pool_size=(2, 2),data_format='channels_last'))\n",
    "    model.add(Dropout(DROPOUT))\n",
    "\n",
    "    model.add(Conv2D(64, (3, 3), padding='same',data_format='channels_last'))\n",
    "    model.add(Activation('relu'))\n",
    "    model.add(MaxPooling2D(pool_size=(2, 2),data_format='channels_last'))\n",
    "    model.add(Dropout(DROPOUT))\n",
    "\n",
    "\n",
    "    model.add(Flatten())\n",
    "    model.add(Dense(512))\n",
    "    model.add(Activation('relu'))\n",
    "    model.add(Dropout(DROPOUT))\n",
    "    model.add(Dense(NB_CLASSES))\n",
    "    model.add(Activation(tf.nn.softmax))\n",
    "\n",
    "    return model\n"
   ]
  },
  {
   "cell_type": "code",
   "execution_count": null,
   "metadata": {
    "collapsed": true
   },
   "outputs": [],
   "source": [
    "# EXECUTING THE SIMPLE KERAS MODEL \n",
    "\n",
    "model=MODEL_DEFINATION()\n",
    "\n",
    "model.compile(loss='categorical_crossentropy', optimizer=OPTIMIZER, metrics=['accuracy'])\n",
    "\n",
    "model_training = model.fit(X_train, y_train, batch_size=BATCH_SIZE, epochs=NB_EPOCH, verbose=VERBOSE, validation_split=SPLIT_RATIO)\n",
    "score = model.evaluate(X_valid, y_valid, verbose=VERBOSE)\n",
    "print(\"Test score:\", score[0])\n",
    "print('Test accuracy:', score[1])"
   ]
  }
 ],
 "metadata": {
  "kernelspec": {
   "display_name": "Python 3",
   "language": "python",
   "name": "python3"
  },
  "language_info": {
   "codemirror_mode": {
    "name": "ipython",
    "version": 3
   },
   "file_extension": ".py",
   "mimetype": "text/x-python",
   "name": "python",
   "nbconvert_exporter": "python",
   "pygments_lexer": "ipython3",
   "version": "3.6.3"
  }
 },
 "nbformat": 4,
 "nbformat_minor": 2
}
