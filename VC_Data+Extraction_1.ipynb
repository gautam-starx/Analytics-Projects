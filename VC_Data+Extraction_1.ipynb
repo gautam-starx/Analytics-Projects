{
 "cells": [
  {
   "cell_type": "code",
   "execution_count": null,
   "metadata": {
    "collapsed": true
   },
   "outputs": [],
   "source": [
    "# IMPORTING LIBRARIES, PACKAGES, SETTING WORKING DIRECTORIES AND DEFINING VARIABLES\n",
    "\n",
    "import numpy as np\n",
    "import pandas as pd\n",
    "from matplotlib import pyplot as plt\n",
    "import cv2\n",
    "import pafy\n",
    "import os\n",
    "import np_utils\n",
    "from sklearn.cross_validation import train_test_split\n",
    "\n",
    "Main_Folder='/Users/gautamroy/Documents/My Python Package/Python OpenCV'\n",
    "Training_Folder='/Users/gautamroy/Documents/My Python Package/Python OpenCV/Training_set'\n",
    "Validation_Folder='/Users/gautamroy/Documents/My Python Package/Python OpenCV/Validation_set'\n",
    "\n",
    "SPLIT_RATIO = 0.2\n"
   ]
  },
  {
   "cell_type": "code",
   "execution_count": null,
   "metadata": {
    "collapsed": true
   },
   "outputs": [],
   "source": [
    "# SPLITTING VIDEO FILES INTO TRAINING AND VALIDATION SETS\n",
    "\n",
    "os.chdir(Main_Folder)\n",
    "YT_URL_Dataset=pd.read_csv('Dataset_VideoURL_Category.csv')\n",
    "X_train_videos,X_valid_videos,y_train_videos,y_valid_videos=train_test_split(YT_URL_Dataset['YouTube_URL'],YT_URL_Dataset['Category'],test_size=SPLIT_RATIO,random_state=0)\n",
    "X_train_videos=np.array(X_train_videos)\n",
    "X_valid_videos=np.array(X_valid_videos)\n",
    "y_train_videos=np.array(y_train_videos)\n",
    "y_valid_videos=np.array(y_valid_videos)\n"
   ]
  },
  {
   "cell_type": "code",
   "execution_count": null,
   "metadata": {
    "collapsed": true
   },
   "outputs": [],
   "source": [
    "# EXTRACTING FRAMES FROM VIDEO FILES\n",
    "\n",
    "def FRAME_EXTRACTION(x_dataset,y_dataset,dstype):\n",
    "    \n",
    "    Train_Frame_set=pd.DataFrame(columns=['FrameID','Category'])\n",
    "    Validation_Frame_set=pd.DataFrame(columns=['FrameID','Category'])\n",
    "    \n",
    "    for i in range(x_dataset.shape[0]):\n",
    "        \n",
    "        print('Processing Video:',(i+1),x_dataset[i])\n",
    "        video = pafy.new(x_dataset[i])\n",
    "        best = video.getbest(preftype=\"mp4\")\n",
    "        capture = cv2.VideoCapture()\n",
    "        capture.open(best.url)\n",
    "        #fps = np.round(capture.get(cv2.CAP_PROP_FPS))\n",
    "        success,image = capture.read()\n",
    "        count = 0\n",
    "        \n",
    "        if (dstype=='Train'):\n",
    "            os.chdir(Training_Folder)\n",
    "            while (capture.isOpened() & success):\n",
    "                if (count%300 == 0):\n",
    "                    cv2.imwrite(\"Video%s_frame%d.jpg\" % ((i+1),count), image)\n",
    "                    Train_Frame_set = Train_Frame_set.append({'FrameID':\"Video%d_frame%d.jpg\" % ((i+1),count),'Category':y_dataset[i]},ignore_index=True)\n",
    "                success,image = capture.read()\n",
    "                count += 1  \n",
    "        \n",
    "        else:\n",
    "            os.chdir(Validation_Folder)\n",
    "            while (capture.isOpened() & success):\n",
    "                if (count%300 == 0):\n",
    "                    cv2.imwrite(\"Video%s_frame%d.jpg\" % ((i+1),count), image)\n",
    "                    Validation_Frame_set = Validation_Frame_set.append({'FrameID':\"Video%d_frame%d.jpg\" % ((i+1),count),'Category':y_dataset[i]},ignore_index=True)\n",
    "                success,image = capture.read()\n",
    "                count += 1    \n",
    "        \n",
    "    if (dstype=='Train'):\n",
    "        return Train_Frame_set\n",
    "    else:\n",
    "        return Validation_Frame_set\n",
    "    \n",
    "    capture.release()\n"
   ]
  },
  {
   "cell_type": "code",
   "execution_count": null,
   "metadata": {
    "collapsed": true
   },
   "outputs": [],
   "source": [
    "# GENERATING CSV FILE WITH FRAME NAMES AND CATAGORY NAMES\n",
    "\n",
    "os.chdir(Main_Folder)\n",
    "\n",
    "Train_Frame_set = FRAME_EXTRACTION(X_train_videos,y_train_videos,'Train')\n",
    "Train_Frame_set.to_csv('Train_Frame_set.csv')\n",
    "\n",
    "Validation_Frame_set = FRAME_EXTRACTION(X_valid_videos,y_valid_videos,'Valid')\n",
    "Validation_Frame_set.to_csv('Validation_Frame_set.csv')\n"
   ]
  }
 ],
 "metadata": {
  "kernelspec": {
   "display_name": "Python 3",
   "language": "python",
   "name": "python3"
  },
  "language_info": {
   "codemirror_mode": {
    "name": "ipython",
    "version": 3
   },
   "file_extension": ".py",
   "mimetype": "text/x-python",
   "name": "python",
   "nbconvert_exporter": "python",
   "pygments_lexer": "ipython3",
   "version": "3.6.3"
  }
 },
 "nbformat": 4,
 "nbformat_minor": 2
}
